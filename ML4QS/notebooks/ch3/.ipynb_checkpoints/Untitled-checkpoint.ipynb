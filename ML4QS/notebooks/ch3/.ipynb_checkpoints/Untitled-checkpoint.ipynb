{
 "cells": [
  {
   "cell_type": "code",
   "execution_count": 4,
   "metadata": {
    "scrolled": true
   },
   "outputs": [
    {
     "name": "stderr",
     "output_type": "stream",
     "text": [
      "Using TensorFlow backend.\n"
     ]
    }
   ],
   "source": [
    "import sys; sys.path\n",
    "\n",
    "import numpy\n",
    "import pandas as pd\n",
    "import math\n",
    "import os\n",
    "from sklearn.neural_network import MLPClassifier\n",
    "import keras"
   ]
  },
  {
   "cell_type": "code",
   "execution_count": 2,
   "metadata": {},
   "outputs": [
    {
     "name": "stdout",
     "output_type": "stream",
     "text": [
      "['id' 'Unnamed: 0' 'acc_phone_x' 'acc_phone_y' 'acc_phone_z' 'acc_watch_x'\n",
      " 'acc_watch_y' 'acc_watch_z' 'gyr_phone_x' 'gyr_phone_y' 'gyr_phone_z'\n",
      " 'gyr_watch_x' 'gyr_watch_y' 'hr_watch_rate_lag1' 'gyr_watch_z'\n",
      " 'hr_watch_rate' 'labelOnTable' 'labelSitting' 'labelWashingHands'\n",
      " 'labelWalking' 'labelStanding' 'labelDriving' 'labelEating'\n",
      " 'labelRunning' 'light_phone_lux' 'mag_phone_x' 'mag_phone_y'\n",
      " 'mag_phone_z' 'mag_watch_x' 'mag_watch_y' 'mag_watch_z'\n",
      " 'press_phone_pressure']\n",
      "% NA: 0.7640869401344306\n"
     ]
    }
   ],
   "source": [
    "# reading in results of the ch2 code\n",
    "df = pd.read_csv(\"chapter2_result.csv\")\n",
    "\n",
    "# add an ID column for easy prediction\n",
    "df.insert(0, 'id', range(0,len(df)))\n",
    "\n",
    "# add lag column\n",
    "df.insert(13,'hr_watch_rate_lag1', df['hr_watch_rate'].shift(1))\n",
    "\n",
    "print(df.columns.values)\n",
    "\n",
    "print(\"% NA: {0}\".format(float(sum(df['hr_watch_rate'].isna()))/float(len(df['hr_watch_rate']))))"
   ]
  },
  {
   "cell_type": "markdown",
   "metadata": {},
   "source": [
    "# Prediction"
   ]
  },
  {
   "cell_type": "code",
   "execution_count": 11,
   "metadata": {},
   "outputs": [
    {
     "ename": "SyntaxError",
     "evalue": "invalid syntax (<ipython-input-11-fcc675475f47>, line 5)",
     "output_type": "error",
     "traceback": [
      "\u001b[1;36m  File \u001b[1;32m\"<ipython-input-11-fcc675475f47>\"\u001b[1;36m, line \u001b[1;32m5\u001b[0m\n\u001b[1;33m    test =\u001b[0m\n\u001b[1;37m           ^\u001b[0m\n\u001b[1;31mSyntaxError\u001b[0m\u001b[1;31m:\u001b[0m invalid syntax\n"
     ]
    }
   ],
   "source": [
    "# sklearn implementation\n",
    "clf = MLPClassifier(solver='lbfgs', alpha=1e-5,\n",
    "                    hidden_layer_sizes=(5, 2), random_state=1)\n",
    "train = df[hr_watch_rate.isna()==FALSE]\n",
    "# test = \n",
    "\n",
    "X_train = train.iloc[:,0:15]\n",
    "y_train = train.iloc[:,15]\n",
    "X_test = test.iloc[:,0:15]\n",
    "y_test = test.iloc[:,15]\n",
    "\n",
    "clf.fit(X,y)"
   ]
  },
  {
   "cell_type": "code",
   "execution_count": 61,
   "metadata": {},
   "outputs": [
    {
     "data": {
      "text/plain": [
       "array(['Unnamed: 0', 'acc_phone_x', 'acc_phone_y', 'acc_phone_z',\n",
       "       'acc_watch_x', 'acc_watch_y', 'acc_watch_z', 'gyr_phone_x',\n",
       "       'gyr_phone_y', 'gyr_phone_z', 'gyr_watch_x', 'gyr_watch_y',\n",
       "       'gyr_watch_z', 'hr_watch_rate', 'labelOnTable', 'labelSitting',\n",
       "       'labelWashingHands', 'labelWalking', 'labelStanding',\n",
       "       'labelDriving', 'labelEating', 'labelRunning', 'light_phone_lux',\n",
       "       'mag_phone_x', 'mag_phone_y', 'mag_phone_z', 'mag_watch_x',\n",
       "       'mag_watch_y', 'mag_watch_z', 'press_phone_pressure'], dtype=object)"
      ]
     },
     "execution_count": 61,
     "metadata": {},
     "output_type": "execute_result"
    }
   ],
   "source": []
  },
  {
   "cell_type": "code",
   "execution_count": null,
   "metadata": {},
   "outputs": [],
   "source": []
  }
 ],
 "metadata": {
  "kernelspec": {
   "display_name": "Python 3",
   "language": "python",
   "name": "python3"
  },
  "language_info": {
   "codemirror_mode": {
    "name": "ipython",
    "version": 3
   },
   "file_extension": ".py",
   "mimetype": "text/x-python",
   "name": "python",
   "nbconvert_exporter": "python",
   "pygments_lexer": "ipython3",
   "version": "3.6.8"
  }
 },
 "nbformat": 4,
 "nbformat_minor": 2
}
