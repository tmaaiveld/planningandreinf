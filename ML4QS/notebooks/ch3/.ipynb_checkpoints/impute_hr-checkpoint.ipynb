{
 "cells": [
  {
   "cell_type": "code",
   "execution_count": 1,
   "metadata": {
    "scrolled": true
   },
   "outputs": [],
   "source": [
    "import pandas as pd\n",
    "from sklearn.neural_network import MLPRegressor"
   ]
  },
  {
   "cell_type": "markdown",
   "metadata": {},
   "source": [
    "# Data Processing & Visualisation"
   ]
  },
  {
   "cell_type": "code",
   "execution_count": 2,
   "metadata": {},
   "outputs": [],
   "source": [
    "# reading in results of the ch2 code\n",
    "df = pd.read_csv(\"chapter2_result.csv\")\n",
    "df.rename(columns={'Unnamed: 0':'timestamp'}, inplace=True )\n",
    "\n",
    "# add lag column\n",
    "df.insert(13,'hr_watch_rate_lag1', df['hr_watch_rate'].shift(1))"
   ]
  },
  {
   "cell_type": "code",
   "execution_count": 3,
   "metadata": {},
   "outputs": [
    {
     "name": "stdout",
     "output_type": "stream",
     "text": [
      "['timestamp' 'acc_phone_x' 'acc_phone_y' 'acc_phone_z' 'acc_watch_x'\n",
      " 'acc_watch_y' 'acc_watch_z' 'gyr_phone_x' 'gyr_phone_y' 'gyr_phone_z'\n",
      " 'gyr_watch_x' 'gyr_watch_y' 'gyr_watch_z' 'hr_watch_rate_lag1'\n",
      " 'hr_watch_rate' 'labelOnTable' 'labelSitting' 'labelWashingHands'\n",
      " 'labelWalking' 'labelStanding' 'labelDriving' 'labelEating'\n",
      " 'labelRunning' 'light_phone_lux' 'mag_phone_x' 'mag_phone_y'\n",
      " 'mag_phone_z' 'mag_watch_x' 'mag_watch_y' 'mag_watch_z'\n",
      " 'press_phone_pressure']\n",
      "                               column_name  percent_missing\n",
      "timestamp                        timestamp         0.000000\n",
      "acc_phone_x                    acc_phone_x         0.000000\n",
      "acc_phone_y                    acc_phone_y         0.000000\n",
      "acc_phone_z                    acc_phone_z         0.000000\n",
      "acc_watch_x                    acc_watch_x         8.778818\n",
      "acc_watch_y                    acc_watch_y         8.778818\n",
      "acc_watch_z                    acc_watch_z         8.778818\n",
      "gyr_phone_x                    gyr_phone_x         0.000000\n",
      "gyr_phone_y                    gyr_phone_y         0.000000\n",
      "gyr_phone_z                    gyr_phone_z         0.000000\n",
      "gyr_watch_x                    gyr_watch_x         8.904454\n",
      "gyr_watch_y                    gyr_watch_y         8.904454\n",
      "gyr_watch_z                    gyr_watch_z         8.904454\n",
      "hr_watch_rate_lag1      hr_watch_rate_lag1        76.408694\n",
      "hr_watch_rate                hr_watch_rate        76.408694\n",
      "labelOnTable                  labelOnTable         0.000000\n",
      "labelSitting                  labelSitting         0.000000\n",
      "labelWashingHands        labelWashingHands         0.000000\n",
      "labelWalking                  labelWalking         0.000000\n",
      "labelStanding                labelStanding         0.000000\n",
      "labelDriving                  labelDriving         0.000000\n",
      "labelEating                    labelEating         0.000000\n",
      "labelRunning                  labelRunning         0.000000\n",
      "light_phone_lux            light_phone_lux        10.430932\n",
      "mag_phone_x                    mag_phone_x         0.012564\n",
      "mag_phone_y                    mag_phone_y         0.012564\n",
      "mag_phone_z                    mag_phone_z         0.012564\n",
      "mag_watch_x                    mag_watch_x         8.904454\n",
      "mag_watch_y                    mag_watch_y         8.904454\n",
      "mag_watch_z                    mag_watch_z         8.904454\n",
      "press_phone_pressure  press_phone_pressure        10.339845\n"
     ]
    }
   ],
   "source": [
    "def count_na(df):\n",
    "    percent_missing = df.isna().sum() * 100 / len(df)\n",
    "    return pd.DataFrame({'column_name': df.columns,\n",
    "                                 'percent_missing': percent_missing})    \n",
    "\n",
    "# some analytics\n",
    "print(df.columns.values)\n",
    "print(count_na(df))"
   ]
  },
  {
   "cell_type": "markdown",
   "metadata": {},
   "source": [
    "# Model Training\n",
    "\n",
    "Training the model on all features in the dataset, including the lag-1 column. Missing values in the predictors were imputed by the mean."
   ]
  },
  {
   "cell_type": "code",
   "execution_count": 4,
   "metadata": {},
   "outputs": [],
   "source": [
    "#train/test split\n",
    "test = df[df['hr_watch_rate'].isna()]\n",
    "train  = df[[not c for c in df['hr_watch_rate'].isna()]]\n",
    "\n",
    "# Create sets, impute by mean in training data\n",
    "X_train = train.drop(['timestamp','hr_watch_rate'],axis=1)\n",
    "X_train = X_train.fillna(X_train.mean())\n",
    "\n",
    "y_train = train.loc[:,'hr_watch_rate']\n",
    "\n",
    "X_test = test.drop(['timestamp','hr_watch_rate'],axis=1)\n",
    "X_test = X_test.fillna(X_train.mean())"
   ]
  },
  {
   "cell_type": "code",
   "execution_count": 5,
   "metadata": {},
   "outputs": [
    {
     "data": {
      "text/plain": [
       "MLPRegressor(activation='relu', alpha=1e-05, batch_size='auto', beta_1=0.9,\n",
       "             beta_2=0.999, early_stopping=False, epsilon=1e-08,\n",
       "             hidden_layer_sizes=(5, 2), learning_rate='constant',\n",
       "             learning_rate_init=0.001, max_iter=200, momentum=0.9,\n",
       "             n_iter_no_change=10, nesterovs_momentum=True, power_t=0.5,\n",
       "             random_state=1, shuffle=True, solver='lbfgs', tol=0.0001,\n",
       "             validation_fraction=0.1, verbose=False, warm_start=False)"
      ]
     },
     "execution_count": 5,
     "metadata": {},
     "output_type": "execute_result"
    }
   ],
   "source": [
    "# sklearn implementation\n",
    "clf = MLPRegressor(solver='lbfgs', alpha=1e-5,\n",
    "                    hidden_layer_sizes=(5, 2), random_state=1)\n",
    "\n",
    "clf.fit(X_train,y_train)"
   ]
  },
  {
   "cell_type": "markdown",
   "metadata": {},
   "source": [
    "# Prediction"
   ]
  },
  {
   "cell_type": "code",
   "execution_count": 6,
   "metadata": {},
   "outputs": [],
   "source": [
    "predictions = pd.Series((clf.predict(X_test)), index = test['hr_watch_rate'].index)\n",
    "imputed_hr = pd.concat([y_train,predictions]).sort_index()"
   ]
  },
  {
   "cell_type": "code",
   "execution_count": 7,
   "metadata": {},
   "outputs": [
    {
     "data": {
      "text/plain": [
       "0        138.588686\n",
       "1        138.839373\n",
       "2        139.382790\n",
       "3        139.152991\n",
       "4        138.952642\n",
       "5        159.500000\n",
       "6        172.525618\n",
       "7        158.000000\n",
       "8        156.000000\n",
       "9        154.000000\n",
       "10       167.556136\n",
       "11       138.946241\n",
       "12       139.006769\n",
       "13       138.943338\n",
       "14       138.944720\n",
       "15       155.000000\n",
       "16       168.084745\n",
       "17       138.875072\n",
       "18       138.955888\n",
       "19       154.000000\n",
       "20       155.000000\n",
       "21       168.247498\n",
       "22       156.000000\n",
       "23       157.000000\n",
       "24       158.000000\n",
       "25       159.000000\n",
       "26       171.804365\n",
       "27       160.000000\n",
       "28       161.000000\n",
       "29       173.804304\n",
       "            ...    \n",
       "31808    124.304783\n",
       "31809    124.279818\n",
       "31810    124.256107\n",
       "31811    124.294356\n",
       "31812    124.228687\n",
       "31813    124.374371\n",
       "31814    124.293347\n",
       "31815    124.286879\n",
       "31816    124.356106\n",
       "31817    124.276896\n",
       "31818    124.251430\n",
       "31819    124.310267\n",
       "31820    124.349322\n",
       "31821    124.353347\n",
       "31822    124.265879\n",
       "31823    124.283325\n",
       "31824    124.251910\n",
       "31825    124.368529\n",
       "31826    124.260321\n",
       "31827    124.277789\n",
       "31828    124.305371\n",
       "31829    124.300175\n",
       "31830    124.227609\n",
       "31831    124.232413\n",
       "31832    124.293617\n",
       "31833    124.311484\n",
       "31834    123.185431\n",
       "31835    123.185474\n",
       "31836    123.184899\n",
       "31837    123.186415\n",
       "Length: 31838, dtype: float64"
      ]
     },
     "execution_count": 7,
     "metadata": {},
     "output_type": "execute_result"
    }
   ],
   "source": [
    "pd.to_csv(imputed_hr, \"C\")\n"
   ]
  },
  {
   "cell_type": "code",
   "execution_count": null,
   "metadata": {},
   "outputs": [],
   "source": []
  }
 ],
 "metadata": {
  "kernelspec": {
   "display_name": "Python 3",
   "language": "python",
   "name": "python3"
  },
  "language_info": {
   "codemirror_mode": {
    "name": "ipython",
    "version": 3
   },
   "file_extension": ".py",
   "mimetype": "text/x-python",
   "name": "python",
   "nbconvert_exporter": "python",
   "pygments_lexer": "ipython3",
   "version": "3.6.8"
  }
 },
 "nbformat": 4,
 "nbformat_minor": 2
}
